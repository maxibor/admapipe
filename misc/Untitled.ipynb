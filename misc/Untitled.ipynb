{
 "cells": [
  {
   "cell_type": "code",
   "execution_count": 39,
   "metadata": {},
   "outputs": [],
   "source": [
    "import requests\n",
    "import pandas as pd"
   ]
  },
  {
   "cell_type": "code",
   "execution_count": 38,
   "metadata": {},
   "outputs": [],
   "source": [
    "def taxid_to_specie(taxid):\n",
    "    \"\"\"\n",
    "    Takes a NCBI tax_id(ex: 10090 ), makes a call to JGI\n",
    "    taxonomy API, and returns a specie name.\n",
    "\n",
    "    INPUT:\n",
    "        taxid(int) ex: 10090\n",
    "    OUPUT:\n",
    "        specie(str) \"Mus musculus\"\n",
    "    \"\"\"\n",
    "\n",
    "    request = \"http://taxonomy.jgi-psf.org/sc/id/\" + str(taxid)\n",
    "    response = requests.get(request)\n",
    "    answer = response.text\n",
    "    specie = answer.split(\";\")[-1].split(\":\")[1]\n",
    "    return(specie)"
   ]
  },
  {
   "cell_type": "code",
   "execution_count": 40,
   "metadata": {},
   "outputs": [],
   "source": [
    "infile = pd.read_csv(\"/home/maxime/Documents/data/ulug_depe/admapipe_results/summary/T-ULG59.summary.csv\", index_col=0)"
   ]
  },
  {
   "cell_type": "code",
   "execution_count": 51,
   "metadata": {},
   "outputs": [
    {
     "data": {
      "text/plain": [
       "(69, 4)"
      ]
     },
     "execution_count": 51,
     "metadata": {},
     "output_type": "execute_result"
    }
   ],
   "source": [
    "infile.shape"
   ]
  },
  {
   "cell_type": "code",
   "execution_count": 71,
   "metadata": {},
   "outputs": [
    {
     "data": {
      "text/plain": [
       "Index(['metaphlan_reads', 'kraken_reads', 'megablast_contigs', 'malt_reads'], dtype='object')"
      ]
     },
     "execution_count": 71,
     "metadata": {},
     "output_type": "execute_result"
    }
   ],
   "source": [
    "infile.columns"
   ]
  },
  {
   "cell_type": "code",
   "execution_count": 45,
   "metadata": {},
   "outputs": [
    {
     "data": {
      "text/plain": [
       "1"
      ]
     },
     "execution_count": 45,
     "metadata": {},
     "output_type": "execute_result"
    }
   ],
   "source": [
    "sum(infile.iloc[2,:])"
   ]
  },
  {
   "cell_type": "code",
   "execution_count": 68,
   "metadata": {},
   "outputs": [
    {
     "data": {
      "text/plain": [
       "1"
      ]
     },
     "execution_count": 68,
     "metadata": {},
     "output_type": "execute_result"
    }
   ],
   "source": [
    "infile.loc[1018,\"kraken_reads\"]"
   ]
  },
  {
   "cell_type": "code",
   "execution_count": 52,
   "metadata": {},
   "outputs": [
    {
     "data": {
      "text/plain": [
       "0.125"
      ]
     },
     "execution_count": 52,
     "metadata": {},
     "output_type": "execute_result"
    }
   ],
   "source": [
    "0.5*0.5*0.5"
   ]
  },
  {
   "cell_type": "code",
   "execution_count": 57,
   "metadata": {},
   "outputs": [
    {
     "data": {
      "text/plain": [
       "104264"
      ]
     },
     "execution_count": 57,
     "metadata": {},
     "output_type": "execute_result"
    }
   ],
   "source": [
    "infile.index[2]"
   ]
  },
  {
   "cell_type": "code",
   "execution_count": 64,
   "metadata": {},
   "outputs": [
    {
     "name": "stdout",
     "output_type": "stream",
     "text": [
      "{'Capnocytophaga ochracea': [1, 1.0], 'Capnocytophaga sputigena': [1, 1.0], 'Cellulophaga': [1, 1.0], 'Actinomyces radicidentis': [1, 1.0], 'Streptococcus gordonii': [1, 1.0], 'Streptococcus oralis': [1, 1.0], 'Streptococcus sanguinis': [1, 1.0], 'Streptococcus agalactiae': [1, 1.0], 'Desulfomicrobium orale': [3, 0.00021003990758244068], 'Streptococcus anginosus': [2, 0.014492753623188406], 'Tessaracoccus aquimaris': [1, 1.0], 'Streptococcus equi': [1, 1.0], 'Streptococcus intermedius': [2, 0.014492753623188406], 'Olsenella uli': [1, 1.0], 'Filifactor alocis': [3, 0.00021003990758244068], '[Eubacterium] sulci': [1, 1.0], 'Candidatus Saccharibacteria oral taxon TM7x': [1, 1.0], 'Treponema sp. OMZ 838': [1, 1.0], 'Treponema denticola': [3, 0.00021003990758244068], 'Tessaracoccus flavus': [1, 1.0], 'Ottowia sp. oral taxon 894': [1, 1.0], 'Capnocytophaga sp. oral taxon 323': [1, 1.0], 'Eubacterium': [1, 1.0], 'Propionibacterium': [1, 1.0], 'Acidipropionibacterium acidipropionici': [1, 1.0], 'Pseudopropionibacterium propionicum': [2, 0.014492753623188406], 'Actinomyces hongkongensis': [1, 1.0], 'Gemella sp. oral taxon 928': [1, 1.0], 'Actinomyces sp. Chiba101': [1, 1.0], 'Murdochiella vaginalis': [1, 1.0], 'Selenomonas sp. oral taxon 920': [1, 1.0], 'Anaerolineaceae bacterium oral taxon 439': [3, 0.00021003990758244068], 'Tessaracoccus sp. T2.5-30': [1, 1.0], 'Actinomyces gaoshouyii': [1, 1.0], 'Desulfobulbus sp. ORNL': [2, 0.014492753623188406], 'Actinomyces sp. oral taxon 897': [1, 1.0], 'Capnocytophaga sp. ChDC OS43': [1, 1.0], 'Methanobrevibacter': [1, 1.0], 'Treponema putidum': [1, 1.0], 'Tannerella forsythia': [3, 0.00021003990758244068], 'Prevotella intermedia': [1, 1.0], 'Burkholderia': [1, 1.0], 'Parvimonas micra': [2, 0.014492753623188406], 'Geobacter sulfurreducens': [1, 1.0], 'Tessaracoccus flavescens': [1, 1.0], 'Leptotrichia buccalis': [1, 1.0], 'Streptococcus cristatus': [1, 1.0], 'Actinomyces meyeri': [2, 0.014492753623188406], 'Eikenella corrodens': [1, 1.0], 'Actinomyces oris': [2, 0.014492753623188406], 'Olsenella umbonata': [1, 1.0], 'Fretibacterium fastidiosum': [1, 1.0], 'Fusobacterium sp. oral taxon 203': [1, 1.0], 'Selenomonas sputigena': [1, 1.0], 'Actinomyces sp. oral taxon 414': [3, 0.00021003990758244068], 'Olsenella sp. oral taxon 807': [3, 0.00021003990758244068], 'Selenomonas sp. oral taxon 126': [1, 1.0], 'Tannerella sp. oral taxon HOT-286': [1, 1.0], 'Lachnospiraceae bacterium oral taxon 500': [2, 0.014492753623188406], '[Eubacterium] minutum': [1, 1.0], 'Streptococcus constellatus': [2, 0.014492753623188406], 'Aminomonas paucivorans': [1, 1.0], 'Campylobacter gracilis': [1, 1.0], 'Porphyromonas gingivalis': [3, 0.00021003990758244068], '[Clostridium] saccharolyticum': [1, 1.0], 'Fusobacterium nucleatum': [2, 0.014492753623188406], 'Faecalibacterium prausnitzii': [1, 1.0], 'Mogibacterium pumilum': [1, 1.0], 'Desulfobulbus': [1, 1.0]}\n"
     ]
    }
   ],
   "source": [
    "true_species = {}\n",
    "\n",
    "baseprob = 1 / infile.shape[0]\n",
    "\n",
    "for i in range(0, infile.shape[0]):\n",
    "    true_species[taxid_to_specie(infile.index[i])] = [sum(infile.iloc[i, :]), baseprob**(sum(infile.iloc[i, :])-1)]\n",
    "\n",
    "print(true_species)"
   ]
  }
 ],
 "metadata": {
  "kernelspec": {
   "display_name": "Python 3",
   "language": "python",
   "name": "python3"
  },
  "language_info": {
   "codemirror_mode": {
    "name": "ipython",
    "version": 3
   },
   "file_extension": ".py",
   "mimetype": "text/x-python",
   "name": "python",
   "nbconvert_exporter": "python",
   "pygments_lexer": "ipython3",
   "version": "3.6.3"
  }
 },
 "nbformat": 4,
 "nbformat_minor": 2
}
